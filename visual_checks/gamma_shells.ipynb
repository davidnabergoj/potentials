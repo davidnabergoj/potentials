{
 "cells": [
  {
   "cell_type": "code",
   "execution_count": 1,
   "id": "initial_id",
   "metadata": {
    "ExecuteTime": {
     "end_time": "2023-11-11T19:52:03.617376100Z",
     "start_time": "2023-11-11T19:52:01.042344100Z"
    }
   },
   "outputs": [],
   "source": [
    "import numpy as np\n",
    "import torch\n",
    "from potentials.synthetic.shell import DoubleGammaShell\n",
    "import matplotlib.pyplot as plt"
   ]
  },
  {
   "cell_type": "code",
   "execution_count": null,
   "id": "3767a529ef172d4d",
   "metadata": {
    "ExecuteTime": {
     "start_time": "2023-11-11T19:52:41.747106900Z"
    },
    "collapsed": false,
    "is_executing": true,
    "jupyter": {
     "outputs_hidden": false
    }
   },
   "outputs": [],
   "source": [
    "resolution = 1500\n",
    "\n",
    "u_helper = DoubleGammaShell()\n",
    "\n",
    "xs = torch.linspace(-22, 22, resolution)\n",
    "ys = torch.linspace(-22, 22, resolution)\n",
    "xx, yy = torch.meshgrid(xs, ys, indexing=\"xy\")\n",
    "xx_flat, yy_flat = xx.ravel(), yy.ravel()\n",
    "zz_flat = -u_helper(torch.concat([xx_flat[:, None], yy_flat[:, None]], dim=1))\n",
    "zz_flat = zz_flat.exp()\n",
    "zz = zz_flat.view_as(xx)\n",
    "\n",
    "min_level = zz.min()\n",
    "max_level = zz.max()\n",
    "n_levels = 7\n",
    "\n",
    "plt.figure()\n",
    "plt.contour(\n",
    "    xx.numpy(),\n",
    "    yy.numpy(),\n",
    "    zz.numpy(),\n",
    "    levels=np.linspace(min_level, max_level, n_levels),\n",
    "    linewidths=2\n",
    ")\n",
    "plt.contourf(\n",
    "    xx.numpy(),\n",
    "    yy.numpy(),\n",
    "    zz.numpy(),\n",
    "    levels=np.linspace(min_level, max_level, n_levels),\n",
    "    alpha=1\n",
    ")\n",
    "plt.title(\"Double gamma shell density\")\n",
    "plt.xlabel(\"Dim 0\")\n",
    "plt.ylabel(\"Dim 1\")\n",
    "plt.tight_layout()\n",
    "plt.colorbar()\n",
    "plt.show()"
   ]
  }
 ],
 "metadata": {
  "kernelspec": {
   "display_name": "Python 3 (ipykernel)",
   "language": "python",
   "name": "python3"
  },
  "language_info": {
   "codemirror_mode": {
    "name": "ipython",
    "version": 3
   },
   "file_extension": ".py",
   "mimetype": "text/x-python",
   "name": "python",
   "nbconvert_exporter": "python",
   "pygments_lexer": "ipython3",
   "version": "3.10.13"
  }
 },
 "nbformat": 4,
 "nbformat_minor": 5
}
